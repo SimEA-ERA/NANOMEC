{
 "cells": [
  {
   "cell_type": "markdown",
   "metadata": {},
   "source": [
    "# Atomistic Strain Calculation Tool\n",
    "\n",
    "This notebook illustrates the procedure that is used to calculate the atomistic strain from a LAMMPS trajectory. \n",
    "\n",
    "## Imported Codes \n",
    "\n",
    "Much of the functionality is included in the imported files *lammpsreader.py*, *auxil.py*, *neicelllist.py* and *agg3dm.py*. \n",
    "\n",
    "+ **lammpsreader.py** : Includes code that reads and parses LAMMPS text trajectory files. We get the atom coordinates of a trajectory frame using this code.  \n",
    "+ **auxil.py** : Mostly includes code that handles the calculation of distances using the periodic boundary condition. \n",
    "+ **neicelllist.py** : Includes code that speeds up the calculation of neighbor atoms surrounding a central atom. Necessary for systems with a large number of atoms.\n",
    "+ **agg3dm.py** : Includes code that spatially averages the calculated strain in cubix boxes in the simulation domain. The average strain per box can then be plotted using a heatmap. \n",
    "\n",
    "## Starting Up\n",
    "\n",
    "First we start by importing most necessary libraries and setting up a few input variables. We must specify the trajectory filename, the frame (timestep) that is considered to be the origin of the deformation, the timestep that is the final stage of the deformation and the cutoff distance used when searching for neighbors of a central atom. \n"
   ]
  },
  {
   "cell_type": "code",
   "execution_count": 1,
   "metadata": {},
   "outputs": [],
   "source": [
    "%matplotlib inline\n",
    "import time\n",
    "from auxil import *\n",
    "from lammpsreader import LammpsTrajReader, isLammpsDataSorted, sortLammpsData\n",
    "from neicelllist import NeiCellList\n",
    "\n",
    "trajectory_filename = 'trajectory.lammpstrj'\n",
    "start_frame = 0\n",
    "end_frame = 250\n",
    "rcut = 10.0"
   ]
  },
  {
   "cell_type": "markdown",
   "metadata": {},
   "source": [
    "## Reading the atomistic positions\n",
    "\n",
    "We use a *LammpsTrajReader* to read the atomistic trajectory. We use the *seek_to_trajectory_step* (defined in *auxil.py*) to seek to the starting and the ending frame of the deformation. We get the coordinates and the box sizes from these two frames, which is the input of the strain calculation code we will use later.  "
   ]
  },
  {
   "cell_type": "code",
   "execution_count": 2,
   "metadata": {},
   "outputs": [
    {
     "name": "stdout",
     "output_type": "stream",
     "text": [
      "Loading starting frame\n",
      "Seeking to trajectory step 0\n",
      "Read conf 0\n",
      "Seeking to trajectory step 250\n",
      "Read conf 50\n",
      "Read conf 100\n",
      "Read conf 150\n",
      "Read conf 200\n",
      "Read conf 250\n"
     ]
    }
   ],
   "source": [
    "reader = LammpsTrajReader(trajectory_filename)\n",
    "print(\"Loading starting frame\")\n",
    "start_conf = seek_to_trajectory_step(reader, start_frame)\n",
    "if start_conf is None:\n",
    "    raise Exception('conf not found')\n",
    "if not isLammpsDataSorted(start_conf):\n",
    "    print('Sorting frame')\n",
    "    sortLammpsData(start_conf)\n",
    "\n",
    "prevCoords = pick_conf_coords(start_conf)\n",
    "prevBoxOffset = calc_box_offset(start_conf)\n",
    "prevBoxSize = calc_box_size(start_conf)\n",
    "\n",
    "end_conf = seek_to_trajectory_step(reader, end_frame)\n",
    "if end_conf is None:\n",
    "    raise Exception('conf not found')\n",
    "if not isLammpsDataSorted(end_conf):\n",
    "    print('Sorting frame')    \n",
    "    sortLammpsData(end_conf)\n",
    "\n",
    "newCoords = pick_conf_coords(end_conf)\n",
    "newBoxSize = calc_box_size(end_conf)"
   ]
  },
  {
   "cell_type": "markdown",
   "metadata": {},
   "source": [
    "## Calculating the neighbor displacements\n",
    "\n",
    "We defined *calc_dxs*, a function that calculates the 3d displacements of an atom's neighbors. It takes as input the index of the atom and of its neighbours, as well as the coordinates of all the atoms in the current frame. It returns a matrix of shape (3,*number_of_neighbors*)."
   ]
  },
  {
   "cell_type": "code",
   "execution_count": 3,
   "metadata": {},
   "outputs": [],
   "source": [
    "def calc_dxs(atm, neins, coords, box_size):\n",
    "    x = coords['x']\n",
    "    y = coords['y']\n",
    "    z = coords['z']\n",
    "    posm = np.array([x[atm], y[atm], z[atm]])\n",
    "    result = np.zeros((3,len(neins)))\n",
    "    i = 0\n",
    "    for nein in neins:\n",
    "        posn = np.array([x[nein], y[nein], z[nein]])\n",
    "        dx = periodicDistanceVec(posn,posm,box_size)\n",
    "        result[:,i] = dx\n",
    "        i += 1\n",
    "    return result"
   ]
  },
  {
   "cell_type": "markdown",
   "metadata": {},
   "source": [
    "## Defining the objective function\n",
    "\n",
    "We define the objective function the needs to be minimized. It takes as input the deformation gradient *F* and the neighbor displacements at the initial and the final frame of the deformation. It returns as output the scalar squared error *W*. Note that we use the Numba library in order to speed up our code."
   ]
  },
  {
   "cell_type": "code",
   "execution_count": 4,
   "metadata": {},
   "outputs": [],
   "source": [
    "from numba import njit\n",
    "\n",
    "@njit()\n",
    "def obj_func(f,DXS,dxs):\n",
    "    W = 0.0\n",
    "    for i in range(dxs.shape[1]):\n",
    "        dx0 = dxs[0,i]\n",
    "        dx1 = dxs[1,i]\n",
    "        dx2 = dxs[2,i]\n",
    "        DX0 = DXS[0,i]\n",
    "        DX1 = DXS[1,i]\n",
    "        DX2 = DXS[2,i]\n",
    "        tmp0 = dx0 - f[0]*DX0 - f[1]*DX1 - f[2]*DX2\n",
    "        tmp1 = dx1 - f[3]*DX0 - f[4]*DX1 - f[5]*DX2\n",
    "        tmp2 = dx2 - f[6]*DX0 - f[7]*DX1 - f[8]*DX2\n",
    "        W += (tmp0*tmp0 + tmp1*tmp1 + tmp2*tmp2)\n",
    "    return W"
   ]
  },
  {
   "cell_type": "markdown",
   "metadata": {},
   "source": [
    "## Creating the neigbor cell list\n",
    "\n",
    "The *NeiCellList* is a class that takes as input the coordinates of all the atoms in a frame and indexes them spatially into rectangular cuboids. This allows fast neighbor searching within a cutoff disrtance *rcut*. The *make_nei_cell_list* function below first creates the cuboids using *makeCells* and then places the atoms in the cells with *makeList*. "
   ]
  },
  {
   "cell_type": "code",
   "execution_count": 5,
   "metadata": {},
   "outputs": [],
   "source": [
    "def make_nei_cell_list(xs,ys,zs,box_size,rcut):\n",
    "    ncl = NeiCellList()\n",
    "    ncl.makeCells(box_size[0], box_size[1], box_size[2], rcut)\n",
    "    ncl.makeList(xs,ys,zs)\n",
    "    return ncl"
   ]
  },
  {
   "cell_type": "markdown",
   "metadata": {},
   "source": [
    "## The actual calculation performing routine\n",
    "\n",
    "The *calc_strain* function performs the actual calculations. It takes as input the coordinates of the starting and ending frames, as well as the cutoff distance used to select neighbors. For earch atom in the system it minimizes the objective function by solving for a zero jacobian and thus acquires an optimal deformation gradient *f0*. It then calculates the strain tensor *e* corresponding to this deformation gradient. It return the strain tensors for all the atoms in the system in a array with shape *(number_of_atoms,3,3)*. Some auxiliary code in this function prints out the progress of the calculations every once in a while."
   ]
  },
  {
   "cell_type": "code",
   "execution_count": 6,
   "metadata": {},
   "outputs": [],
   "source": [
    "def calc_strain(prevCoords, prevBoxOffest, prevBoxSize, newCoords, newBoxSize, rcut):\n",
    "    print('Calculating strain...')\n",
    "    prevProgressStr = ''\n",
    "    startTime = time.time()\n",
    "\n",
    "    x = prevCoords['x'] - prevBoxOffest[0]\n",
    "    y = prevCoords['y'] - prevBoxOffest[1]\n",
    "    z = prevCoords['z'] - prevBoxOffest[2]\n",
    "    atCount = len(x)\n",
    "    strains = np.zeros((atCount,3,3), dtype=np.float64)\n",
    "    ncl = make_nei_cell_list(x,y,z,prevBoxSize,rcut)\n",
    "\n",
    "    for atm in range(atCount):\n",
    "        neis = ncl.calcNeisOf(atm,x,y,z,rcut)\n",
    "        DXS = calc_dxs(atm, neis, prevCoords, prevBoxSize)\n",
    "        dxs = calc_dxs(atm, neis, newCoords, newBoxSize)\n",
    "        f0 = np.linalg.solve(np.kron(np.eye(3),DXS@DXS.T),(dxs@DXS.T).flatten()).reshape(3,3)\n",
    "        # res0 = obj_func(f0.flatten(),DXS,dxs)\n",
    "        e = 0.5 * (np.matmul(f0.transpose(),f0) - np.identity(3))\n",
    "        strains[atm,:,:] = e\n",
    "        \n",
    "        if atm % 500 == 0:\n",
    "            percentDone = float(atm)/float(atCount) * 100.0\n",
    "            progressStr = '%.1f%%' % percentDone\n",
    "            if progressStr != prevProgressStr:\n",
    "                if percentDone > 0.0:\n",
    "                    timeElapsed = time.time() - startTime\n",
    "                    timeRemaining = timeElapsed * (100.0 / percentDone - 1.0)\n",
    "                    print('Done', progressStr, 'time remaining is', time_length_str(timeRemaining))\n",
    "                    prevProgressStr = progressStr\n",
    "    \n",
    "    return strains"
   ]
  },
  {
   "cell_type": "markdown",
   "metadata": {},
   "source": [
    "## Running the calculation\n",
    "\n",
    "We run the strain calculation for the sample system of this notebook. It should take about a minute to complete. Watch the progress as it is printed. The total time of the calculation is printed at the end. "
   ]
  },
  {
   "cell_type": "code",
   "execution_count": 7,
   "metadata": {},
   "outputs": [
    {
     "name": "stdout",
     "output_type": "stream",
     "text": [
      "Calculating strain...\n",
      "Done 4.1% time remaining is 00:02:24\n",
      "Done 8.2% time remaining is 00:01:32\n",
      "Done 12.2% time remaining is 00:01:13\n",
      "Done 16.3% time remaining is 00:01:03\n",
      "Done 20.4% time remaining is 00:00:55\n",
      "Done 24.5% time remaining is 00:00:49\n",
      "Done 28.5% time remaining is 00:00:43\n",
      "Done 32.6% time remaining is 00:00:38\n",
      "Done 36.7% time remaining is 00:00:34\n",
      "Done 40.8% time remaining is 00:00:31\n",
      "Done 44.8% time remaining is 00:00:28\n",
      "Done 48.9% time remaining is 00:00:25\n",
      "Done 53.0% time remaining is 00:00:22\n",
      "Done 57.1% time remaining is 00:00:20\n",
      "Done 61.1% time remaining is 00:00:17\n",
      "Done 65.2% time remaining is 00:00:15\n",
      "Done 69.3% time remaining is 00:00:13\n",
      "Done 73.4% time remaining is 00:00:11\n",
      "Done 77.4% time remaining is 00:00:09\n",
      "Done 81.5% time remaining is 00:00:07\n",
      "Done 85.6% time remaining is 00:00:06\n",
      "Done 89.7% time remaining is 00:00:04\n",
      "Done 93.7% time remaining is 00:00:02\n",
      "Done 97.8% time remaining is 00:00:00\n",
      "Calculation completed in 00:00:41\n"
     ]
    }
   ],
   "source": [
    "startTime = time.time()\n",
    "\n",
    "strain_data = calc_strain(prevCoords, prevBoxOffset, prevBoxSize, newCoords, newBoxSize, rcut)\n",
    "\n",
    "timeElapsed = time.time() - startTime\n",
    "print('Calculation completed in', time_length_str(timeElapsed))"
   ]
  },
  {
   "cell_type": "markdown",
   "metadata": {},
   "source": [
    "## Visualizing the results\n",
    "\n",
    "We will visualize the local strain per atom by spatially aggregating the results into cubic boxes of some specified size, which is 6 Angstroms in the present example. We will visualize the xx part of the strain tensor, which corresponds to row 0 and column 0. "
   ]
  },
  {
   "cell_type": "code",
   "execution_count": 8,
   "metadata": {},
   "outputs": [],
   "source": [
    "from agg3dm import Aggregator3DM\n",
    "import matplotlib.pyplot as plt\n",
    "import seaborn as sns\n",
    "\n",
    "plot_aggsize = 6.0\n",
    "plot_row = 0\n",
    "plot_col = 0"
   ]
  },
  {
   "cell_type": "markdown",
   "metadata": {},
   "source": [
    "The *add* method of the *Aggregator3DM* class accumulates the strain of a specified atom at its corresponging box. The *calc_averages_by_count* method averages the sums by the atom count in each box. A heatmap plot is created with the results and is shown below. The x axis is the axis of deformarion, while the intersection chosen at the z axis is at the middle of the box. Note that the silica nanoparticle is placed at the center of the box. So what we see below is an intersection passing through the center of the nanoparticle. The strain in the nanoparticle is almost zero, while just outside of it, at the x direction, it is much higher than in the bulk area. "
   ]
  },
  {
   "cell_type": "code",
   "execution_count": 9,
   "metadata": {},
   "outputs": [
    {
     "data": {
      "image/png": "[encoded data removed]",
      "text/plain": [
       "<Figure size 720x540 with 2 Axes>"
      ]
     },
     "metadata": {
      "needs_background": "light"
     },
     "output_type": "display_data"
    }
   ],
   "source": [
    "box_params = calc_box_params(end_conf)\n",
    "xlo = box_params[0,0]\n",
    "xhi = box_params[0,1]\n",
    "ylo = box_params[1,0]\n",
    "yhi = box_params[1,1]\n",
    "zlo = box_params[2,0]\n",
    "zhi = box_params[2,1]\n",
    "\n",
    "xs = end_conf['x']\n",
    "ys = end_conf['y']\n",
    "zs = end_conf['z']\n",
    "nats = len(xs)\n",
    "\n",
    "agg = Aggregator3DM(xlo,xhi,ylo,yhi,zlo,zhi, plot_aggsize, (3,3))\n",
    "\n",
    "for iat in range(nats):\n",
    "    p = np.array([xs[iat], ys[iat], zs[iat]])\n",
    "    s = strain_data[iat,:,:]\n",
    "    agg.add(p,s)\n",
    "\n",
    "averages = agg.calc_averages_by_count()\n",
    "nx = averages.shape[0]\n",
    "ny = averages.shape[1]\n",
    "nz = averages.shape[2]\n",
    "iz = int(nz//2)\n",
    "plot_data = np.zeros((ny,nx))\n",
    "for ix in range(nx):\n",
    "    for iy in range(ny):\n",
    "        plot_data[ny-iy-1,ix] = averages[ix,iy,iz,plot_row,plot_col]\n",
    "\n",
    "fig = plt.figure(figsize=(10,7.5))\n",
    "sns.set_theme()\n",
    "ax = sns.heatmap(plot_data, annot=True, cmap=\"mako\", annot_kws={\"fontsize\":7})"
   ]
  }
 ],
 "metadata": {
  "kernelspec": {
   "display_name": "Python 3",
   "language": "python",
   "name": "python3"
  },
  "language_info": {
   "codemirror_mode": {
    "name": "ipython",
    "version": 3
   },
   "file_extension": ".py",
   "mimetype": "text/x-python",
   "name": "python",
   "nbconvert_exporter": "python",
   "pygments_lexer": "ipython3",
   "version": "3.8.5"
  }
 },
 "nbformat": 4,
 "nbformat_minor": 4
}
